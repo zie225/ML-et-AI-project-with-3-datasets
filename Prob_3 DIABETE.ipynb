{
 "cells": [
  {
   "cell_type": "code",
   "execution_count": 1,
   "metadata": {
    "collapsed": true
   },
   "outputs": [],
   "source": [
    "#loading libraries\n",
    "import pandas as pd\n",
    "import numpy as np\n",
    "import matplotlib.pyplot as plt\n",
    "import seaborn as sns\n",
    "\n",
    "%matplotlib inline"
   ]
  },
  {
   "cell_type": "code",
   "execution_count": 2,
   "metadata": {
    "collapsed": false
   },
   "outputs": [
    {
     "data": {
      "text/html": [
       "<div>\n",
       "<table border=\"1\" class=\"dataframe\">\n",
       "  <thead>\n",
       "    <tr style=\"text-align: right;\">\n",
       "      <th></th>\n",
       "      <th>Age</th>\n",
       "      <th>BMI</th>\n",
       "      <th>BloodPressure</th>\n",
       "      <th>DiabetesPedigreeFunction</th>\n",
       "      <th>Glucose</th>\n",
       "      <th>Insulin</th>\n",
       "      <th>Outcome</th>\n",
       "      <th>Pregnancies</th>\n",
       "      <th>SkinThickness</th>\n",
       "      <th>LabelPAge</th>\n",
       "      <th>LabelPBMI</th>\n",
       "      <th>LabelPGlucose</th>\n",
       "      <th>LabelPInsulin</th>\n",
       "      <th>LabelPPregnancies</th>\n",
       "    </tr>\n",
       "  </thead>\n",
       "  <tbody>\n",
       "    <tr>\n",
       "      <th>0</th>\n",
       "      <td>50</td>\n",
       "      <td>33.6</td>\n",
       "      <td>72</td>\n",
       "      <td>0.627</td>\n",
       "      <td>148</td>\n",
       "      <td>0</td>\n",
       "      <td>1</td>\n",
       "      <td>6</td>\n",
       "      <td>35</td>\n",
       "      <td>]28.5;+inf[</td>\n",
       "      <td>]27.85;+inf[</td>\n",
       "      <td>]127.5;154.5]</td>\n",
       "      <td>]-inf;14.5]</td>\n",
       "      <td>]-inf;6.5]</td>\n",
       "    </tr>\n",
       "    <tr>\n",
       "      <th>1</th>\n",
       "      <td>31</td>\n",
       "      <td>26.6</td>\n",
       "      <td>66</td>\n",
       "      <td>0.351</td>\n",
       "      <td>85</td>\n",
       "      <td>0</td>\n",
       "      <td>0</td>\n",
       "      <td>1</td>\n",
       "      <td>29</td>\n",
       "      <td>]28.5;+inf[</td>\n",
       "      <td>]-inf;27.85]</td>\n",
       "      <td>]-inf;99.5]</td>\n",
       "      <td>]-inf;14.5]</td>\n",
       "      <td>]-inf;6.5]</td>\n",
       "    </tr>\n",
       "    <tr>\n",
       "      <th>2</th>\n",
       "      <td>32</td>\n",
       "      <td>23.3</td>\n",
       "      <td>64</td>\n",
       "      <td>0.672</td>\n",
       "      <td>183</td>\n",
       "      <td>0</td>\n",
       "      <td>1</td>\n",
       "      <td>8</td>\n",
       "      <td>0</td>\n",
       "      <td>]28.5;+inf[</td>\n",
       "      <td>]-inf;27.85]</td>\n",
       "      <td>]154.5;+inf[</td>\n",
       "      <td>]-inf;14.5]</td>\n",
       "      <td>]6.5;+inf[</td>\n",
       "    </tr>\n",
       "    <tr>\n",
       "      <th>3</th>\n",
       "      <td>21</td>\n",
       "      <td>28.1</td>\n",
       "      <td>66</td>\n",
       "      <td>0.167</td>\n",
       "      <td>89</td>\n",
       "      <td>94</td>\n",
       "      <td>0</td>\n",
       "      <td>1</td>\n",
       "      <td>23</td>\n",
       "      <td>]-inf;28.5]</td>\n",
       "      <td>]27.85;+inf[</td>\n",
       "      <td>]-inf;99.5]</td>\n",
       "      <td>]14.5;109]</td>\n",
       "      <td>]-inf;6.5]</td>\n",
       "    </tr>\n",
       "    <tr>\n",
       "      <th>4</th>\n",
       "      <td>33</td>\n",
       "      <td>43.1</td>\n",
       "      <td>40</td>\n",
       "      <td>2.288</td>\n",
       "      <td>137</td>\n",
       "      <td>168</td>\n",
       "      <td>1</td>\n",
       "      <td>0</td>\n",
       "      <td>35</td>\n",
       "      <td>]28.5;+inf[</td>\n",
       "      <td>]27.85;+inf[</td>\n",
       "      <td>]127.5;154.5]</td>\n",
       "      <td>]109;+inf[</td>\n",
       "      <td>]-inf;6.5]</td>\n",
       "    </tr>\n",
       "  </tbody>\n",
       "</table>\n",
       "</div>"
      ],
      "text/plain": [
       "   Age   BMI  BloodPressure  DiabetesPedigreeFunction  Glucose  Insulin  \\\n",
       "0   50  33.6             72                     0.627      148        0   \n",
       "1   31  26.6             66                     0.351       85        0   \n",
       "2   32  23.3             64                     0.672      183        0   \n",
       "3   21  28.1             66                     0.167       89       94   \n",
       "4   33  43.1             40                     2.288      137      168   \n",
       "\n",
       "   Outcome  Pregnancies  SkinThickness    LabelPAge     LabelPBMI  \\\n",
       "0        1            6             35  ]28.5;+inf[  ]27.85;+inf[   \n",
       "1        0            1             29  ]28.5;+inf[  ]-inf;27.85]   \n",
       "2        1            8              0  ]28.5;+inf[  ]-inf;27.85]   \n",
       "3        0            1             23  ]-inf;28.5]  ]27.85;+inf[   \n",
       "4        1            0             35  ]28.5;+inf[  ]27.85;+inf[   \n",
       "\n",
       "   LabelPGlucose LabelPInsulin LabelPPregnancies  \n",
       "0  ]127.5;154.5]   ]-inf;14.5]        ]-inf;6.5]  \n",
       "1    ]-inf;99.5]   ]-inf;14.5]        ]-inf;6.5]  \n",
       "2   ]154.5;+inf[   ]-inf;14.5]        ]6.5;+inf[  \n",
       "3    ]-inf;99.5]    ]14.5;109]        ]-inf;6.5]  \n",
       "4  ]127.5;154.5]    ]109;+inf[        ]-inf;6.5]  "
      ]
     },
     "execution_count": 2,
     "metadata": {},
     "output_type": "execute_result"
    }
   ],
   "source": [
    "#reading data set\n",
    "df = pd.read_csv('mangrove_transformed_diabetes.csv')\n",
    "df.head()"
   ]
  },
  {
   "cell_type": "code",
   "execution_count": 3,
   "metadata": {
    "collapsed": false
   },
   "outputs": [
    {
     "name": "stdout",
     "output_type": "stream",
     "text": [
      "<class 'pandas.core.frame.DataFrame'>\n",
      "RangeIndex: 768 entries, 0 to 767\n",
      "Data columns (total 14 columns):\n",
      "Age                         768 non-null int64\n",
      "BMI                         768 non-null float64\n",
      "BloodPressure               768 non-null int64\n",
      "DiabetesPedigreeFunction    768 non-null float64\n",
      "Glucose                     768 non-null int64\n",
      "Insulin                     768 non-null int64\n",
      "Outcome                     768 non-null int64\n",
      "Pregnancies                 768 non-null int64\n",
      "SkinThickness               768 non-null int64\n",
      "LabelPAge                   768 non-null object\n",
      "LabelPBMI                   768 non-null object\n",
      "LabelPGlucose               768 non-null object\n",
      "LabelPInsulin               768 non-null object\n",
      "LabelPPregnancies           768 non-null object\n",
      "dtypes: float64(2), int64(7), object(5)\n",
      "memory usage: 84.1+ KB\n"
     ]
    }
   ],
   "source": [
    "df.info()"
   ]
  },
  {
   "cell_type": "code",
   "execution_count": 4,
   "metadata": {
    "collapsed": false
   },
   "outputs": [
    {
     "data": {
      "text/plain": [
       "Index(['Age', 'BMI', 'BloodPressure', 'DiabetesPedigreeFunction', 'Glucose',\n",
       "       'Insulin', 'Outcome', 'Pregnancies', 'SkinThickness', 'LabelPAge',\n",
       "       'LabelPBMI', 'LabelPGlucose', 'LabelPInsulin', 'LabelPPregnancies'],\n",
       "      dtype='object')"
      ]
     },
     "execution_count": 4,
     "metadata": {},
     "output_type": "execute_result"
    }
   ],
   "source": [
    "df.columns"
   ]
  },
  {
   "cell_type": "code",
   "execution_count": 9,
   "metadata": {
    "collapsed": false
   },
   "outputs": [],
   "source": [
    "#drop_columns=['BloodPressure','DiabetesPedigreeFunction','Outcome','SkinThickness']\n",
    "df.drop(['BloodPressure','DiabetesPedigreeFunction','Outcome','SkinThickness'], axis=1, inplace=True)"
   ]
  },
  {
   "cell_type": "code",
   "execution_count": 10,
   "metadata": {
    "collapsed": false
   },
   "outputs": [
    {
     "data": {
      "text/html": [
       "<div>\n",
       "<table border=\"1\" class=\"dataframe\">\n",
       "  <thead>\n",
       "    <tr style=\"text-align: right;\">\n",
       "      <th></th>\n",
       "      <th>Age</th>\n",
       "      <th>BMI</th>\n",
       "      <th>Glucose</th>\n",
       "      <th>Insulin</th>\n",
       "      <th>Pregnancies</th>\n",
       "      <th>LabelPAge</th>\n",
       "      <th>LabelPBMI</th>\n",
       "      <th>LabelPGlucose</th>\n",
       "      <th>LabelPInsulin</th>\n",
       "      <th>LabelPPregnancies</th>\n",
       "    </tr>\n",
       "  </thead>\n",
       "  <tbody>\n",
       "    <tr>\n",
       "      <th>0</th>\n",
       "      <td>50</td>\n",
       "      <td>33.6</td>\n",
       "      <td>148</td>\n",
       "      <td>0</td>\n",
       "      <td>6</td>\n",
       "      <td>]28.5;+inf[</td>\n",
       "      <td>]27.85;+inf[</td>\n",
       "      <td>]127.5;154.5]</td>\n",
       "      <td>]-inf;14.5]</td>\n",
       "      <td>]-inf;6.5]</td>\n",
       "    </tr>\n",
       "    <tr>\n",
       "      <th>1</th>\n",
       "      <td>31</td>\n",
       "      <td>26.6</td>\n",
       "      <td>85</td>\n",
       "      <td>0</td>\n",
       "      <td>1</td>\n",
       "      <td>]28.5;+inf[</td>\n",
       "      <td>]-inf;27.85]</td>\n",
       "      <td>]-inf;99.5]</td>\n",
       "      <td>]-inf;14.5]</td>\n",
       "      <td>]-inf;6.5]</td>\n",
       "    </tr>\n",
       "    <tr>\n",
       "      <th>2</th>\n",
       "      <td>32</td>\n",
       "      <td>23.3</td>\n",
       "      <td>183</td>\n",
       "      <td>0</td>\n",
       "      <td>8</td>\n",
       "      <td>]28.5;+inf[</td>\n",
       "      <td>]-inf;27.85]</td>\n",
       "      <td>]154.5;+inf[</td>\n",
       "      <td>]-inf;14.5]</td>\n",
       "      <td>]6.5;+inf[</td>\n",
       "    </tr>\n",
       "    <tr>\n",
       "      <th>3</th>\n",
       "      <td>21</td>\n",
       "      <td>28.1</td>\n",
       "      <td>89</td>\n",
       "      <td>94</td>\n",
       "      <td>1</td>\n",
       "      <td>]-inf;28.5]</td>\n",
       "      <td>]27.85;+inf[</td>\n",
       "      <td>]-inf;99.5]</td>\n",
       "      <td>]14.5;109]</td>\n",
       "      <td>]-inf;6.5]</td>\n",
       "    </tr>\n",
       "    <tr>\n",
       "      <th>4</th>\n",
       "      <td>33</td>\n",
       "      <td>43.1</td>\n",
       "      <td>137</td>\n",
       "      <td>168</td>\n",
       "      <td>0</td>\n",
       "      <td>]28.5;+inf[</td>\n",
       "      <td>]27.85;+inf[</td>\n",
       "      <td>]127.5;154.5]</td>\n",
       "      <td>]109;+inf[</td>\n",
       "      <td>]-inf;6.5]</td>\n",
       "    </tr>\n",
       "  </tbody>\n",
       "</table>\n",
       "</div>"
      ],
      "text/plain": [
       "   Age   BMI  Glucose  Insulin  Pregnancies    LabelPAge     LabelPBMI  \\\n",
       "0   50  33.6      148        0            6  ]28.5;+inf[  ]27.85;+inf[   \n",
       "1   31  26.6       85        0            1  ]28.5;+inf[  ]-inf;27.85]   \n",
       "2   32  23.3      183        0            8  ]28.5;+inf[  ]-inf;27.85]   \n",
       "3   21  28.1       89       94            1  ]-inf;28.5]  ]27.85;+inf[   \n",
       "4   33  43.1      137      168            0  ]28.5;+inf[  ]27.85;+inf[   \n",
       "\n",
       "   LabelPGlucose LabelPInsulin LabelPPregnancies  \n",
       "0  ]127.5;154.5]   ]-inf;14.5]        ]-inf;6.5]  \n",
       "1    ]-inf;99.5]   ]-inf;14.5]        ]-inf;6.5]  \n",
       "2   ]154.5;+inf[   ]-inf;14.5]        ]6.5;+inf[  \n",
       "3    ]-inf;99.5]    ]14.5;109]        ]-inf;6.5]  \n",
       "4  ]127.5;154.5]    ]109;+inf[        ]-inf;6.5]  "
      ]
     },
     "execution_count": 10,
     "metadata": {},
     "output_type": "execute_result"
    }
   ],
   "source": [
    "df.head()"
   ]
  },
  {
   "cell_type": "code",
   "execution_count": 12,
   "metadata": {
    "collapsed": false
   },
   "outputs": [
    {
     "name": "stdout",
     "output_type": "stream",
     "text": [
      "<class 'pandas.core.frame.DataFrame'>\n",
      "RangeIndex: 768 entries, 0 to 767\n",
      "Data columns (total 10 columns):\n",
      "Age                  768 non-null int64\n",
      "BMI                  768 non-null float64\n",
      "Glucose              768 non-null int64\n",
      "Insulin              768 non-null int64\n",
      "Pregnancies          768 non-null int64\n",
      "LabelPAge            768 non-null object\n",
      "LabelPBMI            768 non-null object\n",
      "LabelPGlucose        768 non-null object\n",
      "LabelPInsulin        768 non-null object\n",
      "LabelPPregnancies    768 non-null object\n",
      "dtypes: float64(1), int64(4), object(5)\n",
      "memory usage: 60.1+ KB\n"
     ]
    },
    {
     "data": {
      "text/plain": [
       "Index(['Age', 'BMI', 'Glucose', 'Insulin', 'Pregnancies', 'LabelPAge',\n",
       "       'LabelPBMI', 'LabelPGlucose', 'LabelPInsulin', 'LabelPPregnancies'],\n",
       "      dtype='object')"
      ]
     },
     "execution_count": 12,
     "metadata": {},
     "output_type": "execute_result"
    }
   ],
   "source": [
    "df.info()\n",
    "df.columns"
   ]
  },
  {
   "cell_type": "code",
   "execution_count": 13,
   "metadata": {
    "collapsed": true
   },
   "outputs": [],
   "source": [
    "non_dis = ['Age', 'BMI', 'Glucose', 'Insulin', 'Pregnancies']\n",
    "dis = ['LabelPAge','LabelPBMI', 'LabelPGlucose', 'LabelPInsulin', 'LabelPPregnancies']"
   ]
  },
  {
   "cell_type": "code",
   "execution_count": 15,
   "metadata": {
    "collapsed": false
   },
   "outputs": [
    {
     "data": {
      "text/html": [
       "<div>\n",
       "<table border=\"1\" class=\"dataframe\">\n",
       "  <thead>\n",
       "    <tr style=\"text-align: right;\">\n",
       "      <th></th>\n",
       "      <th>Age</th>\n",
       "      <th>BMI</th>\n",
       "      <th>Glucose</th>\n",
       "      <th>Insulin</th>\n",
       "      <th>Pregnancies</th>\n",
       "    </tr>\n",
       "  </thead>\n",
       "  <tbody>\n",
       "    <tr>\n",
       "      <th>Age</th>\n",
       "      <td>1.000000</td>\n",
       "      <td>0.036242</td>\n",
       "      <td>0.263514</td>\n",
       "      <td>-0.042163</td>\n",
       "      <td>0.544341</td>\n",
       "    </tr>\n",
       "    <tr>\n",
       "      <th>BMI</th>\n",
       "      <td>0.036242</td>\n",
       "      <td>1.000000</td>\n",
       "      <td>0.221071</td>\n",
       "      <td>0.197859</td>\n",
       "      <td>0.017683</td>\n",
       "    </tr>\n",
       "    <tr>\n",
       "      <th>Glucose</th>\n",
       "      <td>0.263514</td>\n",
       "      <td>0.221071</td>\n",
       "      <td>1.000000</td>\n",
       "      <td>0.331357</td>\n",
       "      <td>0.129459</td>\n",
       "    </tr>\n",
       "    <tr>\n",
       "      <th>Insulin</th>\n",
       "      <td>-0.042163</td>\n",
       "      <td>0.197859</td>\n",
       "      <td>0.331357</td>\n",
       "      <td>1.000000</td>\n",
       "      <td>-0.073535</td>\n",
       "    </tr>\n",
       "    <tr>\n",
       "      <th>Pregnancies</th>\n",
       "      <td>0.544341</td>\n",
       "      <td>0.017683</td>\n",
       "      <td>0.129459</td>\n",
       "      <td>-0.073535</td>\n",
       "      <td>1.000000</td>\n",
       "    </tr>\n",
       "  </tbody>\n",
       "</table>\n",
       "</div>"
      ],
      "text/plain": [
       "                  Age       BMI   Glucose   Insulin  Pregnancies\n",
       "Age          1.000000  0.036242  0.263514 -0.042163     0.544341\n",
       "BMI          0.036242  1.000000  0.221071  0.197859     0.017683\n",
       "Glucose      0.263514  0.221071  1.000000  0.331357     0.129459\n",
       "Insulin     -0.042163  0.197859  0.331357  1.000000    -0.073535\n",
       "Pregnancies  0.544341  0.017683  0.129459 -0.073535     1.000000"
      ]
     },
     "execution_count": 15,
     "metadata": {},
     "output_type": "execute_result"
    }
   ],
   "source": [
    "df[non_dis].corr()"
   ]
  },
  {
   "cell_type": "code",
   "execution_count": 16,
   "metadata": {
    "collapsed": false
   },
   "outputs": [
    {
     "data": {
      "text/html": [
       "<div>\n",
       "<table border=\"1\" class=\"dataframe\">\n",
       "  <thead>\n",
       "    <tr style=\"text-align: right;\">\n",
       "      <th></th>\n",
       "      <th>Age</th>\n",
       "      <th>BMI</th>\n",
       "      <th>Glucose</th>\n",
       "      <th>Insulin</th>\n",
       "      <th>Pregnancies</th>\n",
       "    </tr>\n",
       "  </thead>\n",
       "  <tbody>\n",
       "    <tr>\n",
       "      <th>Age</th>\n",
       "      <td>1.000000</td>\n",
       "      <td>0.036242</td>\n",
       "      <td>0.263514</td>\n",
       "      <td>-0.042163</td>\n",
       "      <td>0.544341</td>\n",
       "    </tr>\n",
       "    <tr>\n",
       "      <th>BMI</th>\n",
       "      <td>0.036242</td>\n",
       "      <td>1.000000</td>\n",
       "      <td>0.221071</td>\n",
       "      <td>0.197859</td>\n",
       "      <td>0.017683</td>\n",
       "    </tr>\n",
       "    <tr>\n",
       "      <th>Glucose</th>\n",
       "      <td>0.263514</td>\n",
       "      <td>0.221071</td>\n",
       "      <td>1.000000</td>\n",
       "      <td>0.331357</td>\n",
       "      <td>0.129459</td>\n",
       "    </tr>\n",
       "    <tr>\n",
       "      <th>Insulin</th>\n",
       "      <td>-0.042163</td>\n",
       "      <td>0.197859</td>\n",
       "      <td>0.331357</td>\n",
       "      <td>1.000000</td>\n",
       "      <td>-0.073535</td>\n",
       "    </tr>\n",
       "    <tr>\n",
       "      <th>Pregnancies</th>\n",
       "      <td>0.544341</td>\n",
       "      <td>0.017683</td>\n",
       "      <td>0.129459</td>\n",
       "      <td>-0.073535</td>\n",
       "      <td>1.000000</td>\n",
       "    </tr>\n",
       "  </tbody>\n",
       "</table>\n",
       "</div>"
      ],
      "text/plain": [
       "                  Age       BMI   Glucose   Insulin  Pregnancies\n",
       "Age          1.000000  0.036242  0.263514 -0.042163     0.544341\n",
       "BMI          0.036242  1.000000  0.221071  0.197859     0.017683\n",
       "Glucose      0.263514  0.221071  1.000000  0.331357     0.129459\n",
       "Insulin     -0.042163  0.197859  0.331357  1.000000    -0.073535\n",
       "Pregnancies  0.544341  0.017683  0.129459 -0.073535     1.000000"
      ]
     },
     "execution_count": 16,
     "metadata": {},
     "output_type": "execute_result"
    }
   ],
   "source": [
    "df.corr()"
   ]
  },
  {
   "cell_type": "code",
   "execution_count": 21,
   "metadata": {
    "collapsed": true
   },
   "outputs": [],
   "source": [
    "#Corrleation coefficient near to zero for BMI and Pregnancies\n",
    "[Ax,Ay]= clust = ['BMI','Pregnancies']"
   ]
  },
  {
   "cell_type": "code",
   "execution_count": 19,
   "metadata": {
    "collapsed": false
   },
   "outputs": [
    {
     "data": {
      "text/html": [
       "<div>\n",
       "<table border=\"1\" class=\"dataframe\">\n",
       "  <thead>\n",
       "    <tr style=\"text-align: right;\">\n",
       "      <th></th>\n",
       "      <th>Age</th>\n",
       "      <th>BMI</th>\n",
       "      <th>Glucose</th>\n",
       "      <th>Insulin</th>\n",
       "      <th>Pregnancies</th>\n",
       "    </tr>\n",
       "  </thead>\n",
       "  <tbody>\n",
       "    <tr>\n",
       "      <th>count</th>\n",
       "      <td>768.000000</td>\n",
       "      <td>768.000000</td>\n",
       "      <td>768.000000</td>\n",
       "      <td>768.000000</td>\n",
       "      <td>768.000000</td>\n",
       "    </tr>\n",
       "    <tr>\n",
       "      <th>mean</th>\n",
       "      <td>33.240885</td>\n",
       "      <td>31.992578</td>\n",
       "      <td>120.894531</td>\n",
       "      <td>79.799479</td>\n",
       "      <td>3.845052</td>\n",
       "    </tr>\n",
       "    <tr>\n",
       "      <th>std</th>\n",
       "      <td>11.760232</td>\n",
       "      <td>7.884160</td>\n",
       "      <td>31.972618</td>\n",
       "      <td>115.244002</td>\n",
       "      <td>3.369578</td>\n",
       "    </tr>\n",
       "    <tr>\n",
       "      <th>min</th>\n",
       "      <td>21.000000</td>\n",
       "      <td>0.000000</td>\n",
       "      <td>0.000000</td>\n",
       "      <td>0.000000</td>\n",
       "      <td>0.000000</td>\n",
       "    </tr>\n",
       "    <tr>\n",
       "      <th>25%</th>\n",
       "      <td>24.000000</td>\n",
       "      <td>27.300000</td>\n",
       "      <td>99.000000</td>\n",
       "      <td>0.000000</td>\n",
       "      <td>1.000000</td>\n",
       "    </tr>\n",
       "    <tr>\n",
       "      <th>50%</th>\n",
       "      <td>29.000000</td>\n",
       "      <td>32.000000</td>\n",
       "      <td>117.000000</td>\n",
       "      <td>30.500000</td>\n",
       "      <td>3.000000</td>\n",
       "    </tr>\n",
       "    <tr>\n",
       "      <th>75%</th>\n",
       "      <td>41.000000</td>\n",
       "      <td>36.600000</td>\n",
       "      <td>140.250000</td>\n",
       "      <td>127.250000</td>\n",
       "      <td>6.000000</td>\n",
       "    </tr>\n",
       "    <tr>\n",
       "      <th>max</th>\n",
       "      <td>81.000000</td>\n",
       "      <td>67.100000</td>\n",
       "      <td>199.000000</td>\n",
       "      <td>846.000000</td>\n",
       "      <td>17.000000</td>\n",
       "    </tr>\n",
       "  </tbody>\n",
       "</table>\n",
       "</div>"
      ],
      "text/plain": [
       "              Age         BMI     Glucose     Insulin  Pregnancies\n",
       "count  768.000000  768.000000  768.000000  768.000000   768.000000\n",
       "mean    33.240885   31.992578  120.894531   79.799479     3.845052\n",
       "std     11.760232    7.884160   31.972618  115.244002     3.369578\n",
       "min     21.000000    0.000000    0.000000    0.000000     0.000000\n",
       "25%     24.000000   27.300000   99.000000    0.000000     1.000000\n",
       "50%     29.000000   32.000000  117.000000   30.500000     3.000000\n",
       "75%     41.000000   36.600000  140.250000  127.250000     6.000000\n",
       "max     81.000000   67.100000  199.000000  846.000000    17.000000"
      ]
     },
     "execution_count": 19,
     "metadata": {},
     "output_type": "execute_result"
    }
   ],
   "source": [
    "df.describe()"
   ]
  },
  {
   "cell_type": "code",
   "execution_count": 20,
   "metadata": {
    "collapsed": true
   },
   "outputs": [],
   "source": [
    "from scipy import stats\n",
    "from sklearn.cluster import KMeans"
   ]
  },
  {
   "cell_type": "code",
   "execution_count": 22,
   "metadata": {
    "collapsed": true
   },
   "outputs": [],
   "source": [
    "#Standardize\n",
    "df_clust_std = stats.zscore(df[clust])"
   ]
  },
  {
   "cell_type": "code",
   "execution_count": 23,
   "metadata": {
    "collapsed": true
   },
   "outputs": [],
   "source": [
    "#Cluster the data\n",
    "kmeans = KMeans(n_clusters=4, random_state=0).fit(df_clust_std)\n",
    "labels = kmeans.labels_"
   ]
  },
  {
   "cell_type": "code",
   "execution_count": 24,
   "metadata": {
    "collapsed": true
   },
   "outputs": [],
   "source": [
    "#Glue back to originaal data\n",
    "df['clusters'] = labels\n"
   ]
  },
  {
   "cell_type": "code",
   "execution_count": 41,
   "metadata": {
    "collapsed": false
   },
   "outputs": [
    {
     "data": {
      "text/plain": [
       "array([[-4.06047387,  0.01901738],\n",
       "       [-0.59717998, -0.47297437],\n",
       "       [ 0.12889496,  1.29703595],\n",
       "       [ 0.93828987, -0.62521123]])"
      ]
     },
     "execution_count": 41,
     "metadata": {},
     "output_type": "execute_result"
    }
   ],
   "source": [
    "kmeans.cluster_centers_"
   ]
  },
  {
   "cell_type": "code",
   "execution_count": 31,
   "metadata": {
    "collapsed": false
   },
   "outputs": [
    {
     "data": {
      "text/html": [
       "<div>\n",
       "<table border=\"1\" class=\"dataframe\">\n",
       "  <thead>\n",
       "    <tr style=\"text-align: right;\">\n",
       "      <th></th>\n",
       "      <th>BMI</th>\n",
       "      <th>Pregnancies</th>\n",
       "    </tr>\n",
       "    <tr>\n",
       "      <th>clusters</th>\n",
       "      <th></th>\n",
       "      <th></th>\n",
       "    </tr>\n",
       "  </thead>\n",
       "  <tbody>\n",
       "    <tr>\n",
       "      <th>0</th>\n",
       "      <td>0.000000</td>\n",
       "      <td>3.909091</td>\n",
       "    </tr>\n",
       "    <tr>\n",
       "      <th>1</th>\n",
       "      <td>27.287382</td>\n",
       "      <td>2.252366</td>\n",
       "    </tr>\n",
       "    <tr>\n",
       "      <th>2</th>\n",
       "      <td>33.008145</td>\n",
       "      <td>8.212670</td>\n",
       "    </tr>\n",
       "    <tr>\n",
       "      <th>3</th>\n",
       "      <td>39.385388</td>\n",
       "      <td>1.739726</td>\n",
       "    </tr>\n",
       "  </tbody>\n",
       "</table>\n",
       "</div>"
      ],
      "text/plain": [
       "                BMI  Pregnancies\n",
       "clusters                        \n",
       "0          0.000000     3.909091\n",
       "1         27.287382     2.252366\n",
       "2         33.008145     8.212670\n",
       "3         39.385388     1.739726"
      ]
     },
     "execution_count": 31,
     "metadata": {},
     "output_type": "execute_result"
    }
   ],
   "source": [
    "#Lets analyze the clusters\n",
    "df[['BMI','Pregnancies','clusters']].groupby(['clusters']).mean()"
   ]
  },
  {
   "cell_type": "code",
   "execution_count": 30,
   "metadata": {
    "collapsed": false
   },
   "outputs": [
    {
     "data": {
      "text/plain": [
       "<matplotlib.text.Text at 0x20b99084978>"
      ]
     },
     "execution_count": 30,
     "metadata": {},
     "output_type": "execute_result"
    },
    {
     "data": {
      "image/png": "[encoded data removed]",
      "text/plain": [
       "<matplotlib.figure.Figure at 0x20b96f48dd8>"
      ]
     },
     "metadata": {},
     "output_type": "display_data"
    }
   ],
   "source": [
    "#Scatter plot of Wattage and Duration\n",
    "sns.lmplot('BMI', 'Pregnancies', \n",
    "           data=df, \n",
    "           fit_reg=False, \n",
    "           hue=\"clusters\")\n",
    "plt.title('Clusters BMI vs Pregnancies')\n",
    "plt.xlabel('BMI')\n",
    "plt.ylabel('Pregnancies')"
   ]
  },
  {
   "cell_type": "code",
   "execution_count": 34,
   "metadata": {
    "collapsed": false
   },
   "outputs": [],
   "source": [
    "#Format Clusters to A, B, C, D\n",
    "def change_cluster(val):\n",
    "    temp = 'D'\n",
    "    if val == 0:\n",
    "        temp = 'A'\n",
    "    elif val == 1:\n",
    "        temp = 'B'\n",
    "    elif val == 2:\n",
    "        temp = 'C'\n",
    "    \n",
    "    return temp\n",
    "\n",
    "df['clusters'] = df['clusters'].apply(change_cluster)\n",
    "\n",
    "\n"
   ]
  },
  {
   "cell_type": "code",
   "execution_count": 35,
   "metadata": {
    "collapsed": false
   },
   "outputs": [
    {
     "data": {
      "text/html": [
       "<div>\n",
       "<table border=\"1\" class=\"dataframe\">\n",
       "  <thead>\n",
       "    <tr style=\"text-align: right;\">\n",
       "      <th></th>\n",
       "      <th>Age</th>\n",
       "      <th>BMI</th>\n",
       "      <th>Glucose</th>\n",
       "      <th>Insulin</th>\n",
       "      <th>Pregnancies</th>\n",
       "      <th>LabelPAge</th>\n",
       "      <th>LabelPBMI</th>\n",
       "      <th>LabelPGlucose</th>\n",
       "      <th>LabelPInsulin</th>\n",
       "      <th>LabelPPregnancies</th>\n",
       "      <th>clusters</th>\n",
       "    </tr>\n",
       "  </thead>\n",
       "  <tbody>\n",
       "    <tr>\n",
       "      <th>0</th>\n",
       "      <td>50</td>\n",
       "      <td>33.6</td>\n",
       "      <td>148</td>\n",
       "      <td>0</td>\n",
       "      <td>6</td>\n",
       "      <td>]28.5;+inf[</td>\n",
       "      <td>]27.85;+inf[</td>\n",
       "      <td>]127.5;154.5]</td>\n",
       "      <td>]-inf;14.5]</td>\n",
       "      <td>]-inf;6.5]</td>\n",
       "      <td>C</td>\n",
       "    </tr>\n",
       "    <tr>\n",
       "      <th>1</th>\n",
       "      <td>31</td>\n",
       "      <td>26.6</td>\n",
       "      <td>85</td>\n",
       "      <td>0</td>\n",
       "      <td>1</td>\n",
       "      <td>]28.5;+inf[</td>\n",
       "      <td>]-inf;27.85]</td>\n",
       "      <td>]-inf;99.5]</td>\n",
       "      <td>]-inf;14.5]</td>\n",
       "      <td>]-inf;6.5]</td>\n",
       "      <td>B</td>\n",
       "    </tr>\n",
       "    <tr>\n",
       "      <th>2</th>\n",
       "      <td>32</td>\n",
       "      <td>23.3</td>\n",
       "      <td>183</td>\n",
       "      <td>0</td>\n",
       "      <td>8</td>\n",
       "      <td>]28.5;+inf[</td>\n",
       "      <td>]-inf;27.85]</td>\n",
       "      <td>]154.5;+inf[</td>\n",
       "      <td>]-inf;14.5]</td>\n",
       "      <td>]6.5;+inf[</td>\n",
       "      <td>C</td>\n",
       "    </tr>\n",
       "    <tr>\n",
       "      <th>3</th>\n",
       "      <td>21</td>\n",
       "      <td>28.1</td>\n",
       "      <td>89</td>\n",
       "      <td>94</td>\n",
       "      <td>1</td>\n",
       "      <td>]-inf;28.5]</td>\n",
       "      <td>]27.85;+inf[</td>\n",
       "      <td>]-inf;99.5]</td>\n",
       "      <td>]14.5;109]</td>\n",
       "      <td>]-inf;6.5]</td>\n",
       "      <td>B</td>\n",
       "    </tr>\n",
       "    <tr>\n",
       "      <th>4</th>\n",
       "      <td>33</td>\n",
       "      <td>43.1</td>\n",
       "      <td>137</td>\n",
       "      <td>168</td>\n",
       "      <td>0</td>\n",
       "      <td>]28.5;+inf[</td>\n",
       "      <td>]27.85;+inf[</td>\n",
       "      <td>]127.5;154.5]</td>\n",
       "      <td>]109;+inf[</td>\n",
       "      <td>]-inf;6.5]</td>\n",
       "      <td>D</td>\n",
       "    </tr>\n",
       "  </tbody>\n",
       "</table>\n",
       "</div>"
      ],
      "text/plain": [
       "   Age   BMI  Glucose  Insulin  Pregnancies    LabelPAge     LabelPBMI  \\\n",
       "0   50  33.6      148        0            6  ]28.5;+inf[  ]27.85;+inf[   \n",
       "1   31  26.6       85        0            1  ]28.5;+inf[  ]-inf;27.85]   \n",
       "2   32  23.3      183        0            8  ]28.5;+inf[  ]-inf;27.85]   \n",
       "3   21  28.1       89       94            1  ]-inf;28.5]  ]27.85;+inf[   \n",
       "4   33  43.1      137      168            0  ]28.5;+inf[  ]27.85;+inf[   \n",
       "\n",
       "   LabelPGlucose LabelPInsulin LabelPPregnancies clusters  \n",
       "0  ]127.5;154.5]   ]-inf;14.5]        ]-inf;6.5]        C  \n",
       "1    ]-inf;99.5]   ]-inf;14.5]        ]-inf;6.5]        B  \n",
       "2   ]154.5;+inf[   ]-inf;14.5]        ]6.5;+inf[        C  \n",
       "3    ]-inf;99.5]    ]14.5;109]        ]-inf;6.5]        B  \n",
       "4  ]127.5;154.5]    ]109;+inf[        ]-inf;6.5]        D  "
      ]
     },
     "execution_count": 35,
     "metadata": {},
     "output_type": "execute_result"
    }
   ],
   "source": [
    "df.head()"
   ]
  },
  {
   "cell_type": "code",
   "execution_count": 38,
   "metadata": {
    "collapsed": false
   },
   "outputs": [
    {
     "data": {
      "text/plain": [
       "<matplotlib.text.Text at 0x20b99274208>"
      ]
     },
     "execution_count": 38,
     "metadata": {},
     "output_type": "execute_result"
    },
    {
     "data": {
      "image/png": "[encoded data removed]",
      "text/plain": [
       "<matplotlib.figure.Figure at 0x20b9909d2b0>"
      ]
     },
     "metadata": {},
     "output_type": "display_data"
    }
   ],
   "source": [
    "#Scatter plot of Wattage and Duration\n",
    "sns.lmplot('BMI', 'Pregnancies', \n",
    "           data=df, \n",
    "           fit_reg=False, \n",
    "           hue=\"clusters\",\n",
    "           legend=True, legend_out=True)\n",
    "plt.title('Clusters BMI vs Pregnancies')\n",
    "plt.xlabel('BMI')\n",
    "plt.ylabel('Pregnancies')"
   ]
  },
  {
   "cell_type": "code",
   "execution_count": 39,
   "metadata": {
    "collapsed": true
   },
   "outputs": [],
   "source": [
    "# A helper function to calculate the Euclidean diatance between the data \n",
    "# points and the centroids\n",
    "\n",
    "def calculate_distance(centroid, X, Y):\n",
    "    distances = []\n",
    "        \n",
    "    # Unpack the x and y coordinates of the centroid\n",
    "    c_x, c_y = centroid\n",
    "        \n",
    "    # Iterate over the data points and calculate the distance using the           # given formula\n",
    "    for x, y in list(zip(X, Y)):\n",
    "        root_diff_x = (x - c_x) ** 2\n",
    "        root_diff_y = (y - c_y) ** 2\n",
    "        distance = np.sqrt(root_diff_x + root_diff_y)\n",
    "        distances.append(distance)\n",
    "        \n",
    "    return distances\n"
   ]
  },
  {
   "cell_type": "code",
   "execution_count": 44,
   "metadata": {
    "collapsed": true
   },
   "outputs": [],
   "source": [
    "centroids = kmeans.cluster_centers_\n"
   ]
  },
  {
   "cell_type": "code",
   "execution_count": 46,
   "metadata": {
    "collapsed": false
   },
   "outputs": [
    {
     "data": {
      "text/plain": [
       "array([0.12889496, 1.29703595])"
      ]
     },
     "execution_count": 46,
     "metadata": {},
     "output_type": "execute_result"
    }
   ],
   "source": [
    "centroids[2]"
   ]
  },
  {
   "cell_type": "code",
   "execution_count": 47,
   "metadata": {
    "collapsed": false
   },
   "outputs": [
    {
     "name": "stdout",
     "output_type": "stream",
     "text": [
      "   Age   BMI  Glucose  Insulin  Pregnancies    LabelPAge     LabelPBMI  \\\n",
      "0   50  33.6      148        0            6  ]28.5;+inf[  ]27.85;+inf[   \n",
      "1   31  26.6       85        0            1  ]28.5;+inf[  ]-inf;27.85]   \n",
      "2   32  23.3      183        0            8  ]28.5;+inf[  ]-inf;27.85]   \n",
      "3   21  28.1       89       94            1  ]-inf;28.5]  ]27.85;+inf[   \n",
      "4   33  43.1      137      168            0  ]28.5;+inf[  ]27.85;+inf[   \n",
      "\n",
      "   LabelPGlucose LabelPInsulin LabelPPregnancies clusters  A_Distance  \\\n",
      "0  ]127.5;154.5]   ]-inf;14.5]        ]-inf;6.5]        C   38.132446   \n",
      "1    ]-inf;99.5]   ]-inf;14.5]        ]-inf;6.5]        B   30.676163   \n",
      "2   ]154.5;+inf[   ]-inf;14.5]        ]6.5;+inf[        C   28.500730   \n",
      "3    ]-inf;99.5]    ]14.5;109]        ]-inf;6.5]        B   32.175432   \n",
      "4  ]127.5;154.5]    ]109;+inf[        ]-inf;6.5]        D   47.160478   \n",
      "\n",
      "   B_Distance  C_Distance  D_Distance  \n",
      "0   34.804404   33.799893   33.326877  \n",
      "1   27.237038   26.472772   25.713123  \n",
      "2   25.354812   24.121149   23.967485  \n",
      "3   28.734958   27.972682   27.210289  \n",
      "4   43.699740   42.990675   42.166345  \n"
     ]
    }
   ],
   "source": [
    "\n",
    "# distance between each data point of a cluster to their respective cluster centroids\n",
    "df['A_Distance'] = calculate_distance(centroids[0], df.BMI.values, df.Pregnancies.values)\n",
    "df['B_Distance'] = calculate_distance(centroids[1], df.BMI.values, df.Pregnancies.values)\n",
    "df['C_Distance'] = calculate_distance(centroids[2], df.BMI.values, df.Pregnancies.values)\n",
    "df['D_Distance'] = calculate_distance(centroids[3], df.BMI.values, df.Pregnancies.values)\n",
    "\n",
    "# Preview the data\n",
    "print(df.head())\n",
    "\n",
    "    "
   ]
  },
  {
   "cell_type": "code",
   "execution_count": 40,
   "metadata": {
    "collapsed": true
   },
   "outputs": [],
   "source": [
    "from sklearn.metrics.pairwise import euclidean_distances"
   ]
  },
  {
   "cell_type": "code",
   "execution_count": 43,
   "metadata": {
    "collapsed": false
   },
   "outputs": [
    {
     "data": {
      "text/plain": [
       "array([[0.        , 3.49806525, 4.37997062, 5.04010609],\n",
       "       [3.49806525, 0.        , 1.91314436, 1.54299829],\n",
       "       [4.37997062, 1.91314436, 0.        , 2.08570236],\n",
       "       [5.04010609, 1.54299829, 2.08570236, 0.        ]])"
      ]
     },
     "execution_count": 43,
     "metadata": {},
     "output_type": "execute_result"
    }
   ],
   "source": [
    "# Distance between clusters\n",
    "dists = euclidean_distances(kmeans.cluster_centers_)\n",
    "dists"
   ]
  }
 ],
 "metadata": {
  "kernelspec": {
   "display_name": "Python 3",
   "language": "python",
   "name": "python3"
  },
  "language_info": {
   "codemirror_mode": {
    "name": "ipython",
    "version": 3
   },
   "file_extension": ".py",
   "mimetype": "text/x-python",
   "name": "python",
   "nbconvert_exporter": "python",
   "pygments_lexer": "ipython3",
   "version": "3.6.0"
  }
 },
 "nbformat": 4,
 "nbformat_minor": 2
}
